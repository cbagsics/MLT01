{
 "cells": [
  {
   "cell_type": "code",
   "execution_count": 19,
   "id": "63af7724-a1d0-49a8-83a1-90e0fbc68715",
   "metadata": {},
   "outputs": [
    {
     "data": {
      "text/html": [
       "<div>\n",
       "<style scoped>\n",
       "    .dataframe tbody tr th:only-of-type {\n",
       "        vertical-align: middle;\n",
       "    }\n",
       "\n",
       "    .dataframe tbody tr th {\n",
       "        vertical-align: top;\n",
       "    }\n",
       "\n",
       "    .dataframe thead th {\n",
       "        text-align: right;\n",
       "    }\n",
       "</style>\n",
       "<table border=\"1\" class=\"dataframe\">\n",
       "  <thead>\n",
       "    <tr style=\"text-align: right;\">\n",
       "      <th></th>\n",
       "      <th>_id</th>\n",
       "      <th>group_id</th>\n",
       "      <th>num_requests</th>\n",
       "      <th>status_name</th>\n",
       "      <th>status_code</th>\n",
       "      <th>dept</th>\n",
       "      <th>request_type_id</th>\n",
       "      <th>create_date_et</th>\n",
       "      <th>last_action_et</th>\n",
       "      <th>closed_date_et</th>\n",
       "      <th>origin</th>\n",
       "      <th>neighborhood</th>\n",
       "      <th>council_district</th>\n",
       "      <th>request_type_name</th>\n",
       "      <th>resolution_time</th>\n",
       "      <th>is_closed</th>\n",
       "      <th>public_access_level</th>\n",
       "      <th>closed_date_filled</th>\n",
       "      <th>resolution_time_filled</th>\n",
       "      <th>request_status</th>\n",
       "    </tr>\n",
       "  </thead>\n",
       "  <tbody>\n",
       "    <tr>\n",
       "      <th>0</th>\n",
       "      <td>813886</td>\n",
       "      <td>925468</td>\n",
       "      <td>1</td>\n",
       "      <td>closed</td>\n",
       "      <td>1</td>\n",
       "      <td>Police - Zones 1-6</td>\n",
       "      <td>297</td>\n",
       "      <td>2025-01-30 23:43:00</td>\n",
       "      <td>2025-02-03T15:11:00</td>\n",
       "      <td>2025-02-03 15:11:00</td>\n",
       "      <td>Website</td>\n",
       "      <td>Greenfield</td>\n",
       "      <td>5.0</td>\n",
       "      <td>Excessive Noise/Disturbances</td>\n",
       "      <td>3.0</td>\n",
       "      <td>1</td>\n",
       "      <td>Neighborhood</td>\n",
       "      <td>2025-02-03 15:11:00</td>\n",
       "      <td>3</td>\n",
       "      <td>less than 30 days</td>\n",
       "    </tr>\n",
       "    <tr>\n",
       "      <th>1</th>\n",
       "      <td>813885</td>\n",
       "      <td>925467</td>\n",
       "      <td>1</td>\n",
       "      <td>closed</td>\n",
       "      <td>1</td>\n",
       "      <td>Pittsburgh Water and Sewer Authority</td>\n",
       "      <td>532</td>\n",
       "      <td>2025-01-30 22:43:00</td>\n",
       "      <td>2025-01-31T08:05:00</td>\n",
       "      <td>2025-01-31 08:05:00</td>\n",
       "      <td>Report2Gov Website</td>\n",
       "      <td>Perry South</td>\n",
       "      <td>6.0</td>\n",
       "      <td>Water Main Break</td>\n",
       "      <td>0.0</td>\n",
       "      <td>1</td>\n",
       "      <td>Block Level</td>\n",
       "      <td>2025-01-31 08:05:00</td>\n",
       "      <td>0</td>\n",
       "      <td>less than 30 days</td>\n",
       "    </tr>\n",
       "    <tr>\n",
       "      <th>2</th>\n",
       "      <td>813884</td>\n",
       "      <td>925466</td>\n",
       "      <td>1</td>\n",
       "      <td>in progress</td>\n",
       "      <td>3</td>\n",
       "      <td>DPW - Street Maintenance</td>\n",
       "      <td>484</td>\n",
       "      <td>2025-01-30 21:45:00</td>\n",
       "      <td>2025-01-31T06:27:00</td>\n",
       "      <td>NaN</td>\n",
       "      <td>Website</td>\n",
       "      <td>Shadyside</td>\n",
       "      <td>8.0</td>\n",
       "      <td>Potholes</td>\n",
       "      <td>NaN</td>\n",
       "      <td>0</td>\n",
       "      <td>Block Level</td>\n",
       "      <td>2025-04-06 00:00:00</td>\n",
       "      <td>65</td>\n",
       "      <td>more than 30 days</td>\n",
       "    </tr>\n",
       "    <tr>\n",
       "      <th>3</th>\n",
       "      <td>813883</td>\n",
       "      <td>925465</td>\n",
       "      <td>1</td>\n",
       "      <td>in progress</td>\n",
       "      <td>3</td>\n",
       "      <td>DPW - Street Maintenance</td>\n",
       "      <td>484</td>\n",
       "      <td>2025-01-30 20:07:00</td>\n",
       "      <td>2025-01-31T06:27:00</td>\n",
       "      <td>NaN</td>\n",
       "      <td>Website</td>\n",
       "      <td>East Liberty</td>\n",
       "      <td>9.0</td>\n",
       "      <td>Potholes</td>\n",
       "      <td>NaN</td>\n",
       "      <td>0</td>\n",
       "      <td>Block Level</td>\n",
       "      <td>2025-04-06 00:00:00</td>\n",
       "      <td>65</td>\n",
       "      <td>more than 30 days</td>\n",
       "    </tr>\n",
       "    <tr>\n",
       "      <th>4</th>\n",
       "      <td>813881</td>\n",
       "      <td>925464</td>\n",
       "      <td>1</td>\n",
       "      <td>open</td>\n",
       "      <td>0</td>\n",
       "      <td>Police - AVU</td>\n",
       "      <td>415</td>\n",
       "      <td>2025-01-30 19:57:00</td>\n",
       "      <td>2025-01-30T19:57:00</td>\n",
       "      <td>NaN</td>\n",
       "      <td>Website</td>\n",
       "      <td>Perry South</td>\n",
       "      <td>6.0</td>\n",
       "      <td>Abandoned Vehicle (parked on street)</td>\n",
       "      <td>NaN</td>\n",
       "      <td>0</td>\n",
       "      <td>Neighborhood</td>\n",
       "      <td>2025-04-06 00:00:00</td>\n",
       "      <td>65</td>\n",
       "      <td>more than 30 days</td>\n",
       "    </tr>\n",
       "  </tbody>\n",
       "</table>\n",
       "</div>"
      ],
      "text/plain": [
       "      _id  group_id  num_requests  status_name  status_code  \\\n",
       "0  813886    925468             1       closed            1   \n",
       "1  813885    925467             1       closed            1   \n",
       "2  813884    925466             1  in progress            3   \n",
       "3  813883    925465             1  in progress            3   \n",
       "4  813881    925464             1         open            0   \n",
       "\n",
       "                                   dept  request_type_id       create_date_et  \\\n",
       "0                    Police - Zones 1-6              297  2025-01-30 23:43:00   \n",
       "1  Pittsburgh Water and Sewer Authority              532  2025-01-30 22:43:00   \n",
       "2              DPW - Street Maintenance              484  2025-01-30 21:45:00   \n",
       "3              DPW - Street Maintenance              484  2025-01-30 20:07:00   \n",
       "4                          Police - AVU              415  2025-01-30 19:57:00   \n",
       "\n",
       "        last_action_et       closed_date_et              origin  neighborhood  \\\n",
       "0  2025-02-03T15:11:00  2025-02-03 15:11:00             Website    Greenfield   \n",
       "1  2025-01-31T08:05:00  2025-01-31 08:05:00  Report2Gov Website   Perry South   \n",
       "2  2025-01-31T06:27:00                  NaN             Website     Shadyside   \n",
       "3  2025-01-31T06:27:00                  NaN             Website  East Liberty   \n",
       "4  2025-01-30T19:57:00                  NaN             Website   Perry South   \n",
       "\n",
       "   council_district                     request_type_name  resolution_time  \\\n",
       "0               5.0          Excessive Noise/Disturbances              3.0   \n",
       "1               6.0                      Water Main Break              0.0   \n",
       "2               8.0                              Potholes              NaN   \n",
       "3               9.0                              Potholes              NaN   \n",
       "4               6.0  Abandoned Vehicle (parked on street)              NaN   \n",
       "\n",
       "   is_closed public_access_level   closed_date_filled  resolution_time_filled  \\\n",
       "0          1        Neighborhood  2025-02-03 15:11:00                       3   \n",
       "1          1         Block Level  2025-01-31 08:05:00                       0   \n",
       "2          0         Block Level  2025-04-06 00:00:00                      65   \n",
       "3          0         Block Level  2025-04-06 00:00:00                      65   \n",
       "4          0        Neighborhood  2025-04-06 00:00:00                      65   \n",
       "\n",
       "      request_status  \n",
       "0  less than 30 days  \n",
       "1  less than 30 days  \n",
       "2  more than 30 days  \n",
       "3  more than 30 days  \n",
       "4  more than 30 days  "
      ]
     },
     "execution_count": 19,
     "metadata": {},
     "output_type": "execute_result"
    }
   ],
   "source": [
    "import pandas as pd\n",
    "\n",
    "#Loading cleaned Dataset and Viewing It\n",
    "df = pd.read_csv(\"clean2.csv\")\n",
    "df.head()"
   ]
  },
  {
   "cell_type": "code",
   "execution_count": 20,
   "id": "283dc591-110e-43f4-bb78-a155749de359",
   "metadata": {},
   "outputs": [
    {
     "data": {
      "text/plain": [
       "resolution_time           50225\n",
       "closed_date_et            50225\n",
       "neighborhood              19288\n",
       "council_district          18490\n",
       "public_access_level       18097\n",
       "request_type_name          5477\n",
       "dept                       1452\n",
       "_id                           0\n",
       "resolution_time_filled        0\n",
       "closed_date_filled            0\n",
       "is_closed                     0\n",
       "origin                        0\n",
       "group_id                      0\n",
       "last_action_et                0\n",
       "create_date_et                0\n",
       "request_type_id               0\n",
       "status_code                   0\n",
       "status_name                   0\n",
       "num_requests                  0\n",
       "request_status                0\n",
       "dtype: int64"
      ]
     },
     "execution_count": 20,
     "metadata": {},
     "output_type": "execute_result"
    }
   ],
   "source": [
    "df.isnull().sum().sort_values(ascending=False) #An overview of missing values "
   ]
  },
  {
   "cell_type": "code",
   "execution_count": 21,
   "id": "17d6aebb-57fb-45f0-b184-ffc439e345d6",
   "metadata": {},
   "outputs": [
    {
     "data": {
      "text/html": [
       "<div>\n",
       "<style scoped>\n",
       "    .dataframe tbody tr th:only-of-type {\n",
       "        vertical-align: middle;\n",
       "    }\n",
       "\n",
       "    .dataframe tbody tr th {\n",
       "        vertical-align: top;\n",
       "    }\n",
       "\n",
       "    .dataframe thead th {\n",
       "        text-align: right;\n",
       "    }\n",
       "</style>\n",
       "<table border=\"1\" class=\"dataframe\">\n",
       "  <thead>\n",
       "    <tr style=\"text-align: right;\">\n",
       "      <th></th>\n",
       "      <th>create_date_et</th>\n",
       "      <th>closed_date_et</th>\n",
       "      <th>closed_date_filled</th>\n",
       "      <th>resolution_time</th>\n",
       "      <th>resolution_time_filled</th>\n",
       "    </tr>\n",
       "  </thead>\n",
       "  <tbody>\n",
       "    <tr>\n",
       "      <th>157177</th>\n",
       "      <td>2023-07-21 09:39:00</td>\n",
       "      <td>2024-08-08 13:17:00</td>\n",
       "      <td>2024-08-08 13:17:00</td>\n",
       "      <td>384.0</td>\n",
       "      <td>384</td>\n",
       "    </tr>\n",
       "    <tr>\n",
       "      <th>22273</th>\n",
       "      <td>2024-11-12 09:38:00</td>\n",
       "      <td>2024-11-25 11:32:00</td>\n",
       "      <td>2024-11-25 11:32:00</td>\n",
       "      <td>13.0</td>\n",
       "      <td>13</td>\n",
       "    </tr>\n",
       "    <tr>\n",
       "      <th>123484</th>\n",
       "      <td>2023-11-13 09:45:00</td>\n",
       "      <td>2023-11-18 06:10:00</td>\n",
       "      <td>2023-11-18 06:10:00</td>\n",
       "      <td>4.0</td>\n",
       "      <td>4</td>\n",
       "    </tr>\n",
       "    <tr>\n",
       "      <th>74637</th>\n",
       "      <td>2024-05-17 08:03:00</td>\n",
       "      <td>2024-05-24 11:38:00</td>\n",
       "      <td>2024-05-24 11:38:00</td>\n",
       "      <td>7.0</td>\n",
       "      <td>7</td>\n",
       "    </tr>\n",
       "    <tr>\n",
       "      <th>38121</th>\n",
       "      <td>2024-09-05 14:36:00</td>\n",
       "      <td>NaN</td>\n",
       "      <td>2025-04-06 00:00:00</td>\n",
       "      <td>NaN</td>\n",
       "      <td>212</td>\n",
       "    </tr>\n",
       "  </tbody>\n",
       "</table>\n",
       "</div>"
      ],
      "text/plain": [
       "             create_date_et       closed_date_et   closed_date_filled  \\\n",
       "157177  2023-07-21 09:39:00  2024-08-08 13:17:00  2024-08-08 13:17:00   \n",
       "22273   2024-11-12 09:38:00  2024-11-25 11:32:00  2024-11-25 11:32:00   \n",
       "123484  2023-11-13 09:45:00  2023-11-18 06:10:00  2023-11-18 06:10:00   \n",
       "74637   2024-05-17 08:03:00  2024-05-24 11:38:00  2024-05-24 11:38:00   \n",
       "38121   2024-09-05 14:36:00                  NaN  2025-04-06 00:00:00   \n",
       "\n",
       "        resolution_time  resolution_time_filled  \n",
       "157177            384.0                     384  \n",
       "22273              13.0                      13  \n",
       "123484              4.0                       4  \n",
       "74637               7.0                       7  \n",
       "38121               NaN                     212  "
      ]
     },
     "execution_count": 21,
     "metadata": {},
     "output_type": "execute_result"
    }
   ],
   "source": [
    "df[['create_date_et', 'closed_date_et', 'closed_date_filled', 'resolution_time', 'resolution_time_filled']].sample(5) #Viewing how the data for closed_date_et and resolution_time was dealt\n"
   ]
  },
  {
   "cell_type": "code",
   "execution_count": 22,
   "id": "54fe9450-da0d-43ea-a8f7-63b650344568",
   "metadata": {},
   "outputs": [],
   "source": [
    "# Imputing missing categorical values with a placeholder\n",
    "df['neighborhood'] = df['neighborhood'].fillna(\"Unknown\")\n",
    "df['council_district'] = df['council_district'].fillna(\"Unknown\")\n",
    "df['public_access_level'] = df['public_access_level'].fillna(\"Unknown\")\n",
    "df['dept'] = df['dept'].fillna(\"Unknown\")\n",
    "df['request_type_name'] = df['request_type_name'].fillna(\"Unspecified\")"
   ]
  },
  {
   "cell_type": "code",
   "execution_count": 27,
   "id": "40b22183-8a75-45f7-a045-5e634eef08d7",
   "metadata": {},
   "outputs": [
    {
     "name": "stdout",
     "output_type": "stream",
     "text": [
      "Missing in neighborhood: 0\n",
      "Missing in council_district: 0\n",
      "Missing in public_access_level: 0\n",
      "Missing in dept: 0\n",
      "Missing in request_type_name: 0\n"
     ]
    }
   ],
   "source": [
    "print(\"Missing in neighborhood:\", df['neighborhood'].isnull().sum())\n",
    "print(\"Missing in council_district:\", df['council_district'].isnull().sum())\n",
    "print(\"Missing in public_access_level:\", df['public_access_level'].isnull().sum())\n",
    "print(\"Missing in dept:\", df['dept'].isnull().sum())\n",
    "print(\"Missing in request_type_name:\", df['request_type_name'].isnull().sum())"
   ]
  },
  {
   "cell_type": "code",
   "execution_count": 29,
   "id": "d9c96073-cd75-4bb3-9ddd-be1dbfc3937b",
   "metadata": {},
   "outputs": [
    {
     "name": "stdout",
     "output_type": "stream",
     "text": [
      "Numerical columns: ['_id', 'group_id', 'num_requests', 'status_code', 'request_type_id', 'resolution_time', 'is_closed', 'resolution_time_filled']\n"
     ]
    }
   ],
   "source": [
    "# Exploring numerical columns for outliers\n",
    "num_cols = df.select_dtypes(include=['int64', 'float64']).columns\n",
    "print(\"Numerical columns:\", list(num_cols))"
   ]
  },
  {
   "cell_type": "code",
   "execution_count": 37,
   "id": "ab422fc4-1606-4743-82a0-194a7754453b",
   "metadata": {},
   "outputs": [
    {
     "name": "stdout",
     "output_type": "stream",
     "text": [
      "Old max: 1190\n",
      "New max: 1108\n"
     ]
    }
   ],
   "source": [
    "#Dealing with columns of interest by Capping resolution_time_filled at 99th percentile (256 days) and num_requests at 99th percentile (3)\n"
   ]
  },
  {
   "cell_type": "code",
   "execution_count": 39,
   "id": "8e1981cf-f9f9-4a1f-b774-e3d10dd0dc83",
   "metadata": {},
   "outputs": [
    {
     "name": "stdout",
     "output_type": "stream",
     "text": [
      "Old max: 57\n",
      "New max: 2\n"
     ]
    }
   ],
   "source": [
    "\n"
   ]
  },
  {
   "cell_type": "code",
   "execution_count": 43,
   "id": "04bbb114-ce4b-40fa-b178-ffb12c79ee28",
   "metadata": {},
   "outputs": [
    {
     "name": "stdout",
     "output_type": "stream",
     "text": [
      "Number of entries > 30 days: 109618\n",
      "Number of entries > 60 days: 90092\n",
      "Number of entries > 90 days: 77563\n",
      "Number of entries > 180 days: 58695\n",
      "Number of entries > 365 days: 36637\n",
      "Number of entries > 730 days: 15114\n",
      "Number of entries > 1000 days: 6779\n"
     ]
    }
   ],
   "source": [
    "#Dealing with columns of interest by exploring thresholds for resolution_time_filled  and num_requests \n",
    "thresholds = [30, 60, 90, 180, 365, 730, 1000]\n",
    "for t in thresholds:\n",
    "    count = (df['resolution_time_filled'] > t).sum()\n",
    "    print(f\"Number of entries > {t} days: {count}\")\n"
   ]
  },
  {
   "cell_type": "code",
   "execution_count": 51,
   "id": "85800346-7243-471a-93a3-09f3c7968d15",
   "metadata": {},
   "outputs": [],
   "source": [
    "df['resolution_time_filled'] = df['resolution_time_filled'].apply(lambda x: min(x, 365))\n",
    "df['num_requests'] = df['num_requests'].apply(lambda x: min(x, 2))"
   ]
  },
  {
   "cell_type": "code",
   "execution_count": 55,
   "id": "9489b10d-986a-435b-8cc3-ef73176e39e3",
   "metadata": {},
   "outputs": [
    {
     "data": {
      "image/png": "[encoded data removed]",
      "text/plain": [
       "<Figure size 1000x600 with 1 Axes>"
      ]
     },
     "metadata": {},
     "output_type": "display_data"
    }
   ],
   "source": [
    "#Analyzing the impact after capping using a histogram\n",
    "\n",
    "import matplotlib.pyplot as plt\n",
    "import seaborn as sns\n",
    "\n",
    "plt.figure(figsize=(10, 6))\n",
    "sns.histplot(df['resolution_time_filled'], bins=50, color='skyblue', edgecolor='black')\n",
    "plt.title(\"Distribution of Resolution Time (after capping at 365 days)\")\n",
    "plt.xlabel(\"Resolution Time (Days)\")\n",
    "plt.ylabel(\"Frequency\")\n",
    "plt.show()"
   ]
  },
  {
   "cell_type": "code",
   "execution_count": 59,
   "id": "a08c9471-a3d3-487d-ac2b-0ed880f465a1",
   "metadata": {},
   "outputs": [
    {
     "data": {
      "image/png": "[encoded data removed]",
      "text/plain": [
       "<Figure size 600x400 with 1 Axes>"
      ]
     },
     "metadata": {},
     "output_type": "display_data"
    }
   ],
   "source": [
    "plt.figure(figsize=(6, 4))\n",
    "sns.histplot(df['num_requests'], bins=3, discrete=True, color='orange', edgecolor='black')\n",
    "plt.title(\"Distribution of Number of Requests (after capping at 2)\")\n",
    "plt.xlabel(\"Number of Requests\")\n",
    "plt.ylabel(\"Frequency\")\n",
    "plt.xticks([0, 1, 2])\n",
    "plt.show()"
   ]
  },
  {
   "cell_type": "code",
   "execution_count": 61,
   "id": "4ce7ab4f-ab8a-4fe9-b708-b64df8e76178",
   "metadata": {},
   "outputs": [
    {
     "name": "stdout",
     "output_type": "stream",
     "text": [
      "Missing values by column:\n",
      "resolution_time    50225\n",
      "closed_date_et     50225\n",
      "dtype: int64\n"
     ]
    }
   ],
   "source": [
    "# View count of missing values for all columns\n",
    "missing_summary = df.isnull().sum().sort_values(ascending=False)\n",
    "missing_summary = missing_summary[missing_summary > 0]  # Show only columns with missing values\n",
    "print(\"Missing values by column:\")\n",
    "print(missing_summary)\n"
   ]
  },
  {
   "cell_type": "code",
   "execution_count": 63,
   "id": "446f34b7-c6d2-4c88-bdb0-2069cab60874",
   "metadata": {},
   "outputs": [
    {
     "name": "stdout",
     "output_type": "stream",
     "text": [
      "0\n"
     ]
    }
   ],
   "source": [
    "# Confirm that resolution_time_filled has no missing values\n",
    "print(df['resolution_time_filled'].isnull().sum())  # Should be 0"
   ]
  },
  {
   "cell_type": "code",
   "execution_count": null,
   "id": "660cf8a5-2439-49a3-ac71-efb5f3554900",
   "metadata": {},
   "outputs": [],
   "source": [
    "df.to_csv(\"clean3.csv\", index=False)\n"
   ]
  },
  {
   "cell_type": "code",
   "execution_count": 71,
   "id": "1872d6ac-845f-4306-a247-f491b60c4c60",
   "metadata": {},
   "outputs": [
    {
     "name": "stdout",
     "output_type": "stream",
     "text": [
      "<class 'pandas.core.frame.DataFrame'>\n",
      "RangeIndex: 316673 entries, 0 to 316672\n",
      "Data columns (total 22 columns):\n",
      " #   Column                         Non-Null Count   Dtype  \n",
      "---  ------                         --------------   -----  \n",
      " 0   _id                            316673 non-null  int64  \n",
      " 1   group_id                       316673 non-null  int64  \n",
      " 2   num_requests                   316673 non-null  int64  \n",
      " 3   status_name                    316673 non-null  object \n",
      " 4   status_code                    316673 non-null  int64  \n",
      " 5   dept                           316673 non-null  object \n",
      " 6   request_type_id                316673 non-null  int64  \n",
      " 7   create_date_et                 316673 non-null  object \n",
      " 8   last_action_et                 316673 non-null  object \n",
      " 9   closed_date_et                 266448 non-null  object \n",
      " 10  origin                         316673 non-null  object \n",
      " 11  neighborhood                   316673 non-null  object \n",
      " 12  council_district               316673 non-null  object \n",
      " 13  request_type_name              316673 non-null  object \n",
      " 14  resolution_time                266448 non-null  float64\n",
      " 15  is_closed                      316673 non-null  int64  \n",
      " 16  public_access_level            316673 non-null  object \n",
      " 17  closed_date_filled             316673 non-null  object \n",
      " 18  resolution_time_filled         316673 non-null  int64  \n",
      " 19  request_status                 316673 non-null  object \n",
      " 20  resolution_time_filled_capped  316673 non-null  int64  \n",
      " 21  num_requests_capped            316673 non-null  int64  \n",
      "dtypes: float64(1), int64(9), object(12)\n",
      "memory usage: 53.2+ MB\n"
     ]
    }
   ],
   "source": []
  },
  {
   "cell_type": "code",
   "execution_count": 73,
   "id": "04976eb4-7319-40ef-9f46-dd4cbf0b3ccb",
   "metadata": {},
   "outputs": [
    {
     "name": "stdout",
     "output_type": "stream",
     "text": [
      "Missing values by column:\n",
      " closed_date_et     50225\n",
      "resolution_time    50225\n",
      "dtype: int64\n"
     ]
    }
   ],
   "source": [
    "\n"
   ]
  },
  {
   "cell_type": "code",
   "execution_count": 75,
   "id": "6d84855f-87ea-45c7-9dde-cb90d3158f62",
   "metadata": {},
   "outputs": [
    {
     "name": "stdout",
     "output_type": "stream",
     "text": [
      "Resolution Time Filled Stats:\n",
      "count    316673.000000\n",
      "mean         77.498420\n",
      "std         125.868921\n",
      "min           0.000000\n",
      "25%           1.000000\n",
      "50%           9.000000\n",
      "75%          85.000000\n",
      "max         365.000000\n",
      "Name: resolution_time_filled, dtype: float64\n",
      "\n",
      "Num Requests Stats:\n",
      "count    316673.000000\n",
      "mean          1.019860\n",
      "std           0.139518\n",
      "min           1.000000\n",
      "25%           1.000000\n",
      "50%           1.000000\n",
      "75%           1.000000\n",
      "max           2.000000\n",
      "Name: num_requests, dtype: float64\n"
     ]
    }
   ],
   "source": [
    "\n"
   ]
  },
  {
   "cell_type": "code",
   "execution_count": 77,
   "id": "a4150938-7b0e-435c-b953-94acaa3ad780",
   "metadata": {},
   "outputs": [
    {
     "name": "stdout",
     "output_type": "stream",
     "text": [
      "\n",
      "Unique values in 'request_status': ['less than 30 days' 'more than 30 days']\n",
      "Unique values in 'is_closed': [1 0]\n"
     ]
    }
   ],
   "source": []
  },
  {
   "cell_type": "code",
   "execution_count": null,
   "id": "e7c461bb-5d66-4af0-80bc-65f37bbb542c",
   "metadata": {},
   "outputs": [],
   "source": []
  }
 ],
 "metadata": {
  "kernelspec": {
   "display_name": "Python [conda env:base] *",
   "language": "python",
   "name": "conda-base-py"
  },
  "language_info": {
   "codemirror_mode": {
    "name": "ipython",
    "version": 3
   },
   "file_extension": ".py",
   "mimetype": "text/x-python",
   "name": "python",
   "nbconvert_exporter": "python",
   "pygments_lexer": "ipython3",
   "version": "3.12.3"
  }
 },
 "nbformat": 4,
 "nbformat_minor": 5
}
