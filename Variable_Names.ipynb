{
 "cells": [
  {
   "cell_type": "markdown",
   "id": "75792c99-72e1-4e01-9c19-d06e90317cef",
   "metadata": {},
   "source": [
    "Variables\n",
    "\n",
    "group_id: ID of the first ticket to arrive for a given issue\n",
    "\n",
    "num_requests: total number of requests for a given issue (parent + child tickets)\n",
    "\n",
    "status_name: progress metrics(\n",
    "             closed, in progress, open)\n",
    "\n",
    "status_code: progress metrics(\n",
    "             0 - open\n",
    "             1 - closed\n",
    "             2 - on hold\n",
    "             3 - in progress)\n",
    "\n",
    "dept: department assigned to handle ticket\n",
    "\n",
    "request_type_id: ID for category that the request falls under (eg, potholes = 484)\n",
    "\n",
    "create_date_et: date ticket was created in ET\n",
    "\n",
    "last_action_et: last update made on the ticket\n",
    "\n",
    "closed_date_et: date ticket was closed in ET\n",
    "\n",
    "origin: where the ticket was reported through\n",
    "\n",
    "neighborhood: neighborhood of the ticket\n",
    "\n",
    "council_district: council district of the ticket\n",
    "\n",
    "request_type_name: category name for the request (eg, potholes)\n",
    "\n",
    "resolution_time: how many days it took to close the ticket\n",
    "\n",
    "is_closed: boolean progress metric of ticket(\n",
    "           0 - open\n",
    "           1 - closed)\n",
    "\n",
    "public_access_level: access level of the request (eg, neighborhood, block level)\n",
    "\n",
    "closed_date_filled: date ticket was closed in ET, but with the NA filled with\n",
    "                    download day (April 6); used to create request_status\n",
    "\n",
    "request_status: status of ticket(\n",
    "                less than 30 days\n",
    "                more than 30 days)"
   ]
  }
 ],
 "metadata": {
  "kernelspec": {
   "display_name": "Python 3 (ipykernel)",
   "language": "python",
   "name": "python3"
  },
  "language_info": {
   "codemirror_mode": {
    "name": "ipython",
    "version": 3
   },
   "file_extension": ".py",
   "mimetype": "text/x-python",
   "name": "python",
   "nbconvert_exporter": "python",
   "pygments_lexer": "ipython3",
   "version": "3.12.7"
  }
 },
 "nbformat": 4,
 "nbformat_minor": 5
}
